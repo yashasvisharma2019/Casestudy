{
 "cells": [
  {
   "cell_type": "code",
   "execution_count": 0,
   "metadata": {
    "application/vnd.databricks.v1+cell": {
     "cellMetadata": {
      "byteLimit": 2048000,
      "rowLimit": 10000
     },
     "inputWidgets": {},
     "nuid": "a892d654-0fdb-4025-a6e1-ad94b1d21db0",
     "showTitle": false,
     "tableResultSettingsMap": {},
     "title": ""
    }
   },
   "outputs": [],
   "source": [
    "secret=dbutils.secrets.get('databricklogin','databricklogin')"
   ]
  },
  {
   "cell_type": "code",
   "execution_count": 0,
   "metadata": {
    "application/vnd.databricks.v1+cell": {
     "cellMetadata": {
      "byteLimit": 2048000,
      "rowLimit": 10000
     },
     "inputWidgets": {},
     "nuid": "9d21cf23-2a82-4029-a142-4c3af61571ba",
     "showTitle": false,
     "tableResultSettingsMap": {},
     "title": ""
    }
   },
   "outputs": [],
   "source": [
    "application_id =\"88dec17f-62f0-4cab-82b7-b9022c2cc21c\"\n",
    "service_credential=secret\n",
    "directory_id=\"037e0179-cd0e-4201-951c-167b7554d77a\"\n",
    "spark.conf.set(\"fs.azure.account.auth.type.datastoragenew12.dfs.core.windows.net\", \"OAuth\")\n",
    "spark.conf.set(\"fs.azure.account.oauth.provider.type.datastoragenew12.dfs.core.windows.net\", \"org.apache.hadoop.fs.azurebfs.oauth2.ClientCredsTokenProvider\")\n",
    "spark.conf.set(\"fs.azure.account.oauth2.client.id.datastoragenew12.dfs.core.windows.net\", application_id)\n",
    "spark.conf.set(\"fs.azure.account.oauth2.client.secret.datastoragenew12.dfs.core.windows.net\", service_credential)\n",
    "spark.conf.set(\"fs.azure.account.oauth2.client.endpoint.datastoragenew12.dfs.core.windows.net\", f\"https://login.microsoftonline.com/{directory_id}/oauth2/token\")"
   ]
  },
  {
   "cell_type": "code",
   "execution_count": 0,
   "metadata": {
    "application/vnd.databricks.v1+cell": {
     "cellMetadata": {
      "byteLimit": 2048000,
      "rowLimit": 10000
     },
     "inputWidgets": {},
     "nuid": "14be5010-a09c-46f9-b5a4-7c6319c2ddbb",
     "showTitle": false,
     "tableResultSettingsMap": {},
     "title": ""
    }
   },
   "outputs": [
    {
     "output_type": "display_data",
     "data": {
      "text/html": [
       "<style scoped>\n",
       "  .table-result-container {\n",
       "    max-height: 300px;\n",
       "    overflow: auto;\n",
       "  }\n",
       "  table, th, td {\n",
       "    border: 1px solid black;\n",
       "    border-collapse: collapse;\n",
       "  }\n",
       "  th, td {\n",
       "    padding: 5px;\n",
       "  }\n",
       "  th {\n",
       "    text-align: left;\n",
       "  }\n",
       "</style><div class='table-result-container'><table class='table-result'><thead style='background-color: white'><tr><th>path</th><th>name</th><th>size</th><th>modificationTime</th></tr></thead><tbody><tr><td>abfss://raw@datastoragenew12.dfs.core.windows.net/Address/</td><td>Address/</td><td>0</td><td>1732920488000</td></tr><tr><td>abfss://raw@datastoragenew12.dfs.core.windows.net/Customer/</td><td>Customer/</td><td>0</td><td>1732920489000</td></tr><tr><td>abfss://raw@datastoragenew12.dfs.core.windows.net/CustomerAddress/</td><td>CustomerAddress/</td><td>0</td><td>1732920492000</td></tr><tr><td>abfss://raw@datastoragenew12.dfs.core.windows.net/Product/</td><td>Product/</td><td>0</td><td>1732920478000</td></tr><tr><td>abfss://raw@datastoragenew12.dfs.core.windows.net/ProductCategory/</td><td>ProductCategory/</td><td>0</td><td>1732920495000</td></tr><tr><td>abfss://raw@datastoragenew12.dfs.core.windows.net/ProductDescription/</td><td>ProductDescription/</td><td>0</td><td>1732920492000</td></tr><tr><td>abfss://raw@datastoragenew12.dfs.core.windows.net/ProductModel/</td><td>ProductModel/</td><td>0</td><td>1732920478000</td></tr><tr><td>abfss://raw@datastoragenew12.dfs.core.windows.net/ProductModelProductDescription/</td><td>ProductModelProductDescription/</td><td>0</td><td>1732920494000</td></tr><tr><td>abfss://raw@datastoragenew12.dfs.core.windows.net/SalesOrderDetail/</td><td>SalesOrderDetail/</td><td>0</td><td>1732920489000</td></tr><tr><td>abfss://raw@datastoragenew12.dfs.core.windows.net/SalesOrderHeader/</td><td>SalesOrderHeader/</td><td>0</td><td>1732920493000</td></tr></tbody></table></div>"
      ]
     },
     "metadata": {
      "application/vnd.databricks.v1+output": {
       "addedWidgets": {},
       "aggData": [],
       "aggError": "",
       "aggOverflow": false,
       "aggSchema": [],
       "aggSeriesLimitReached": false,
       "aggType": "",
       "arguments": {},
       "columnCustomDisplayInfos": {},
       "data": [
        [
         "abfss://raw@datastoragenew12.dfs.core.windows.net/Address/",
         "Address/",
         0,
         1732920488000
        ],
        [
         "abfss://raw@datastoragenew12.dfs.core.windows.net/Customer/",
         "Customer/",
         0,
         1732920489000
        ],
        [
         "abfss://raw@datastoragenew12.dfs.core.windows.net/CustomerAddress/",
         "CustomerAddress/",
         0,
         1732920492000
        ],
        [
         "abfss://raw@datastoragenew12.dfs.core.windows.net/Product/",
         "Product/",
         0,
         1732920478000
        ],
        [
         "abfss://raw@datastoragenew12.dfs.core.windows.net/ProductCategory/",
         "ProductCategory/",
         0,
         1732920495000
        ],
        [
         "abfss://raw@datastoragenew12.dfs.core.windows.net/ProductDescription/",
         "ProductDescription/",
         0,
         1732920492000
        ],
        [
         "abfss://raw@datastoragenew12.dfs.core.windows.net/ProductModel/",
         "ProductModel/",
         0,
         1732920478000
        ],
        [
         "abfss://raw@datastoragenew12.dfs.core.windows.net/ProductModelProductDescription/",
         "ProductModelProductDescription/",
         0,
         1732920494000
        ],
        [
         "abfss://raw@datastoragenew12.dfs.core.windows.net/SalesOrderDetail/",
         "SalesOrderDetail/",
         0,
         1732920489000
        ],
        [
         "abfss://raw@datastoragenew12.dfs.core.windows.net/SalesOrderHeader/",
         "SalesOrderHeader/",
         0,
         1732920493000
        ]
       ],
       "datasetInfos": [],
       "dbfsResultPath": null,
       "isJsonSchema": true,
       "metadata": {},
       "overflow": false,
       "plotOptions": {
        "customPlotOptions": {},
        "displayType": "table",
        "pivotAggregation": null,
        "pivotColumns": null,
        "xColumns": null,
        "yColumns": null
       },
       "removedWidgets": [],
       "schema": [
        {
         "metadata": "{}",
         "name": "path",
         "type": "\"string\""
        },
        {
         "metadata": "{}",
         "name": "name",
         "type": "\"string\""
        },
        {
         "metadata": "{}",
         "name": "size",
         "type": "\"long\""
        },
        {
         "metadata": "{}",
         "name": "modificationTime",
         "type": "\"long\""
        }
       ],
       "type": "table"
      }
     },
     "output_type": "display_data"
    }
   ],
   "source": [
    "display(dbutils.fs.ls(\"abfss://raw@datastoragenew12.dfs.core.windows.net\"))"
   ]
  },
  {
   "cell_type": "code",
   "execution_count": 0,
   "metadata": {
    "application/vnd.databricks.v1+cell": {
     "cellMetadata": {
      "byteLimit": 2048000,
      "rowLimit": 10000
     },
     "inputWidgets": {},
     "nuid": "5f802559-6b9d-4a66-b9f1-dcc62f81c1f3",
     "showTitle": false,
     "tableResultSettingsMap": {},
     "title": ""
    }
   },
   "outputs": [],
   "source": [
    "df_a = spark.read \\\n",
    "    .option(\"header\", \"true\") \\\n",
    "    .option(\"delimiter\", \",\") \\\n",
    "    .csv(\"abfss://raw@datastoragenew12.dfs.core.windows.net/Address/Address.csv\")\n",
    "display(df_a)"
   ]
  },
  {
   "cell_type": "code",
   "execution_count": 0,
   "metadata": {
    "application/vnd.databricks.v1+cell": {
     "cellMetadata": {
      "byteLimit": 2048000,
      "rowLimit": 10000
     },
     "inputWidgets": {},
     "nuid": "89701253-1829-418d-a9ae-b712e6e26ecb",
     "showTitle": false,
     "tableResultSettingsMap": {},
     "title": ""
    }
   },
   "outputs": [],
   "source": [
    "\n",
    "from pyspark.sql.functions import col, date_format\n",
    "\n",
    "# Extract the date from the ModifiedDate column and create a new column 'Date' and drop the original column 'ModifiedDate'\n",
    "df_ac = df_a.withColumn(\"Date\", date_format(col(\"ModifiedDate\"), \"yyyy-MM-dd\")) \\\n",
    "                                                                            .drop(\"ModifiedDate\")\n",
    "         \n",
    "\n",
    "display(df_ac)"
   ]
  },
  {
   "cell_type": "code",
   "execution_count": 0,
   "metadata": {
    "application/vnd.databricks.v1+cell": {
     "cellMetadata": {
      "byteLimit": 2048000,
      "rowLimit": 10000
     },
     "inputWidgets": {},
     "nuid": "1b85e8d4-a221-47aa-a269-b851eb4b86c8",
     "showTitle": false,
     "tableResultSettingsMap": {},
     "title": ""
    }
   },
   "outputs": [],
   "source": [
    "df_ac.write.format(\"delta\").mode(\"append\").save(\"abfss://proccesed@datastoragenew12.dfs.core.windows.net/Address\")"
   ]
  },
  {
   "cell_type": "code",
   "execution_count": 0,
   "metadata": {
    "application/vnd.databricks.v1+cell": {
     "cellMetadata": {
      "byteLimit": 2048000,
      "rowLimit": 10000
     },
     "inputWidgets": {},
     "nuid": "741171ad-8246-46f9-9736-3a4ed52a3192",
     "showTitle": false,
     "tableResultSettingsMap": {},
     "title": ""
    }
   },
   "outputs": [],
   "source": [
    "df_c = spark.read \\\n",
    "    .option(\"header\", \"true\") \\\n",
    "    .option(\"delimiter\", \",\") \\\n",
    "    .csv(\"abfss://raw@datastoragenew12.dfs.core.windows.net/Customer/Customer.csv\")\n",
    "display(df_c)"
   ]
  },
  {
   "cell_type": "code",
   "execution_count": 0,
   "metadata": {
    "application/vnd.databricks.v1+cell": {
     "cellMetadata": {
      "byteLimit": 2048000,
      "rowLimit": 10000
     },
     "inputWidgets": {},
     "nuid": "9090d5cd-9e93-4122-9913-a94f503745c8",
     "showTitle": false,
     "tableResultSettingsMap": {},
     "title": ""
    }
   },
   "outputs": [],
   "source": [
    "df_cc = df_c.withColumn(\"Date\", date_format(col(\"ModifiedDate\"), \"yyyy-MM-dd\")) \\\n",
    "                                                                            .drop(\"ModifiedDate\")\n",
    "display(df_cc)   \n",
    "df_cc.write.format(\"delta\").mode(\"append\").save(\"abfss://proccesed@datastoragenew12.dfs.core.windows.net/Customer\")"
   ]
  },
  {
   "cell_type": "code",
   "execution_count": 0,
   "metadata": {
    "application/vnd.databricks.v1+cell": {
     "cellMetadata": {
      "byteLimit": 2048000,
      "rowLimit": 10000
     },
     "inputWidgets": {},
     "nuid": "7e1fd23b-e396-48c2-becd-7803f993f29b",
     "showTitle": false,
     "tableResultSettingsMap": {},
     "title": ""
    }
   },
   "outputs": [],
   "source": [
    "df_ca = spark.read \\\n",
    "    .option(\"header\", \"true\") \\\n",
    "    .option(\"delimiter\", \",\") \\\n",
    "    .csv(\"abfss://raw@datastoragenew12.dfs.core.windows.net/CustomerAddress/CustomerAddress.csv\")\n",
    "display(df_ca)"
   ]
  },
  {
   "cell_type": "code",
   "execution_count": 0,
   "metadata": {
    "application/vnd.databricks.v1+cell": {
     "cellMetadata": {
      "byteLimit": 2048000,
      "rowLimit": 10000
     },
     "inputWidgets": {},
     "nuid": "8f6b9b7c-a43c-4dbd-8bfa-0cd054890f04",
     "showTitle": false,
     "tableResultSettingsMap": {},
     "title": ""
    }
   },
   "outputs": [],
   "source": [
    "df_cac = df_ca.withColumn(\"Date\", date_format(col(\"ModifiedDate\"), \"yyyy-MM-dd\")) \\\n",
    "                                                                            .drop(\"ModifiedDate\")\n",
    "display(df_cac)   \n",
    "df_cac.write.format(\"delta\").mode(\"append\").save(\"abfss://proccesed@datastoragenew12.dfs.core.windows.net/CustomerAddress\")"
   ]
  },
  {
   "cell_type": "code",
   "execution_count": 0,
   "metadata": {
    "application/vnd.databricks.v1+cell": {
     "cellMetadata": {
      "byteLimit": 2048000,
      "rowLimit": 10000
     },
     "inputWidgets": {},
     "nuid": "41ba2819-8e61-426e-aa0c-1ef571c1dcfc",
     "showTitle": false,
     "tableResultSettingsMap": {},
     "title": ""
    }
   },
   "outputs": [],
   "source": [
    "\n",
    "df_p = spark.read \\\n",
    "    .option(\"header\", \"true\") \\\n",
    "    .option(\"delimiter\", \",\") \\\n",
    "    .csv(\"abfss://raw@datastoragenew12.dfs.core.windows.net/Product/Product.csv\")\n",
    "display(df_p)"
   ]
  },
  {
   "cell_type": "code",
   "execution_count": 0,
   "metadata": {
    "application/vnd.databricks.v1+cell": {
     "cellMetadata": {
      "byteLimit": 2048000,
      "rowLimit": 10000
     },
     "inputWidgets": {},
     "nuid": "6faa699b-c242-47ab-82d4-1ad996127eae",
     "showTitle": false,
     "tableResultSettingsMap": {},
     "title": ""
    }
   },
   "outputs": [],
   "source": [
    "df_pc = df_p.withColumn(\"Date\", date_format(col(\"ModifiedDate\"), \"yyyy-MM-dd\")) \\\n",
    "                                                                            .drop(\"ModifiedDate\")\n",
    "df_pc = df_pc.withColumn(\"SellStartDate\", date_format(col(\"SellStartDate\"), \"yyyy-MM-dd\")) \\\n",
    "            .withColumn(\"SellEndDate\", date_format(col(\"SellEndDate\"), \"yyyy-MM-dd\"))                                                                          \n",
    "display(df_pc)   \n",
    "df_pc.write.format(\"delta\") \\\n",
    "            .mode(\"append\") \\\n",
    "            .save(\"abfss://proccesed@datastoragenew12.dfs.core.windows.net/Product\")"
   ]
  }
 ],
 "metadata": {
  "application/vnd.databricks.v1+notebook": {
   "computePreferences": null,
   "dashboards": [],
   "environmentMetadata": {
    "base_environment": "",
    "client": "1"
   },
   "language": "python",
   "notebookMetadata": {
    "pythonIndentUnit": 4
   },
   "notebookName": "cleaning",
   "widgets": {}
  },
  "language_info": {
   "name": "python"
  }
 },
 "nbformat": 4,
 "nbformat_minor": 0
}