{
 "cells": [
  {
   "cell_type": "code",
   "execution_count": 0,
   "metadata": {
    "application/vnd.databricks.v1+cell": {
     "cellMetadata": {
      "byteLimit": 2048000,
      "rowLimit": 10000
     },
     "inputWidgets": {},
     "nuid": "682bb678-f474-49dc-8300-82a2edd36f31",
     "showTitle": false,
     "tableResultSettingsMap": {},
     "title": ""
    }
   },
   "outputs": [],
   "source": [
    "secret=dbutils.secrets.get('databricklogin','databricklogin')"
   ]
  },
  {
   "cell_type": "code",
   "execution_count": 0,
   "metadata": {
    "application/vnd.databricks.v1+cell": {
     "cellMetadata": {
      "byteLimit": 2048000,
      "rowLimit": 10000
     },
     "inputWidgets": {},
     "nuid": "13da6cb5-5cff-4b9c-8af4-94460df4db97",
     "showTitle": false,
     "tableResultSettingsMap": {},
     "title": ""
    }
   },
   "outputs": [],
   "source": [
    "application_id =\"88dec17f-62f0-4cab-82b7-b9022c2cc21c\"\n",
    "service_credential=secret\n",
    "directory_id=\"037e0179-cd0e-4201-951c-167b7554d77a\"\n",
    "spark.conf.set(\"fs.azure.account.auth.type.datastoragenew12.dfs.core.windows.net\", \"OAuth\")\n",
    "spark.conf.set(\"fs.azure.account.oauth.provider.type.datastoragenew12.dfs.core.windows.net\", \"org.apache.hadoop.fs.azurebfs.oauth2.ClientCredsTokenProvider\")\n",
    "spark.conf.set(\"fs.azure.account.oauth2.client.id.datastoragenew12.dfs.core.windows.net\", application_id)\n",
    "spark.conf.set(\"fs.azure.account.oauth2.client.secret.datastoragenew12.dfs.core.windows.net\", service_credential)\n",
    "spark.conf.set(\"fs.azure.account.oauth2.client.endpoint.datastoragenew12.dfs.core.windows.net\", f\"https://login.microsoftonline.com/{directory_id}/oauth2/token\")"
   ]
  },
  {
   "cell_type": "code",
   "execution_count": 0,
   "metadata": {
    "application/vnd.databricks.v1+cell": {
     "cellMetadata": {
      "byteLimit": 2048000,
      "rowLimit": 10000
     },
     "inputWidgets": {},
     "nuid": "c9a883b0-540d-4590-9678-e85d56d6bdf5",
     "showTitle": false,
     "tableResultSettingsMap": {},
     "title": ""
    }
   },
   "outputs": [
    {
     "output_type": "display_data",
     "data": {
      "text/html": [
       "<style scoped>\n",
       "  .table-result-container {\n",
       "    max-height: 300px;\n",
       "    overflow: auto;\n",
       "  }\n",
       "  table, th, td {\n",
       "    border: 1px solid black;\n",
       "    border-collapse: collapse;\n",
       "  }\n",
       "  th, td {\n",
       "    padding: 5px;\n",
       "  }\n",
       "  th {\n",
       "    text-align: left;\n",
       "  }\n",
       "</style><div class='table-result-container'><table class='table-result'><thead style='background-color: white'><tr><th>path</th><th>name</th><th>size</th><th>modificationTime</th></tr></thead><tbody><tr><td>abfss://proccesed@datastoragenew12.dfs.core.windows.net/Address/</td><td>Address/</td><td>0</td><td>1732923206000</td></tr><tr><td>abfss://proccesed@datastoragenew12.dfs.core.windows.net/Customer/</td><td>Customer/</td><td>0</td><td>1732923982000</td></tr><tr><td>abfss://proccesed@datastoragenew12.dfs.core.windows.net/CustomerAddress/</td><td>CustomerAddress/</td><td>0</td><td>1732923986000</td></tr><tr><td>abfss://proccesed@datastoragenew12.dfs.core.windows.net/Product/</td><td>Product/</td><td>0</td><td>1732923990000</td></tr></tbody></table></div>"
      ]
     },
     "metadata": {
      "application/vnd.databricks.v1+output": {
       "addedWidgets": {},
       "aggData": [],
       "aggError": "",
       "aggOverflow": false,
       "aggSchema": [],
       "aggSeriesLimitReached": false,
       "aggType": "",
       "arguments": {},
       "columnCustomDisplayInfos": {},
       "data": [
        [
         "abfss://proccesed@datastoragenew12.dfs.core.windows.net/Address/",
         "Address/",
         0,
         1732923206000
        ],
        [
         "abfss://proccesed@datastoragenew12.dfs.core.windows.net/Customer/",
         "Customer/",
         0,
         1732923982000
        ],
        [
         "abfss://proccesed@datastoragenew12.dfs.core.windows.net/CustomerAddress/",
         "CustomerAddress/",
         0,
         1732923986000
        ],
        [
         "abfss://proccesed@datastoragenew12.dfs.core.windows.net/Product/",
         "Product/",
         0,
         1732923990000
        ]
       ],
       "datasetInfos": [],
       "dbfsResultPath": null,
       "isJsonSchema": true,
       "metadata": {},
       "overflow": false,
       "plotOptions": {
        "customPlotOptions": {},
        "displayType": "table",
        "pivotAggregation": null,
        "pivotColumns": null,
        "xColumns": null,
        "yColumns": null
       },
       "removedWidgets": [],
       "schema": [
        {
         "metadata": "{}",
         "name": "path",
         "type": "\"string\""
        },
        {
         "metadata": "{}",
         "name": "name",
         "type": "\"string\""
        },
        {
         "metadata": "{}",
         "name": "size",
         "type": "\"long\""
        },
        {
         "metadata": "{}",
         "name": "modificationTime",
         "type": "\"long\""
        }
       ],
       "type": "table"
      }
     },
     "output_type": "display_data"
    }
   ],
   "source": [
    "display(dbutils.fs.ls(\"abfss://proccesed@datastoragenew12.dfs.core.windows.net\"))"
   ]
  },
  {
   "cell_type": "code",
   "execution_count": 0,
   "metadata": {
    "application/vnd.databricks.v1+cell": {
     "cellMetadata": {
      "byteLimit": 2048000,
      "rowLimit": 10000
     },
     "inputWidgets": {},
     "nuid": "572c0244-5c7c-430c-8e83-5f7c8420259a",
     "showTitle": false,
     "tableResultSettingsMap": {},
     "title": ""
    }
   },
   "outputs": [
    {
     "output_type": "stream",
     "name": "stdout",
     "output_type": "stream",
     "text": [
      "+---------+-------------------+------------+--------+-------------+-------------+----------+--------------------+----------+\n|AddressID|       AddressLine1|AddressLine2|    City|StateProvince|CountryRegion|PostalCode|             rowguid|      Date|\n+---------+-------------------+------------+--------+-------------+-------------+----------+--------------------+----------+\n|        9|  8713 Yosemite Ct.|        NULL| Bothell|   Washington|United States|     98011|268af621-76d7-4c7...|2006-07-01|\n|       11|1318 Lasalle Street|        NULL| Bothell|   Washington|United States|     98011|981b3303-aca2-49c...|2007-04-01|\n|       25|   9178 Jumping St.|        NULL|  Dallas|        Texas|United States|     75201|c8df3bd9-48f0-465...|2006-09-01|\n|       28|   9228 Via Del Sol|        NULL| Phoenix|      Arizona|United States|     85004|12ae5ee1-fc3e-468...|2005-09-01|\n|       32|  26910 Indela Road|        NULL|Montreal|       Quebec|       Canada|   H1Y 2H5|84a95f62-3ae8-4e7...|2006-08-01|\n+---------+-------------------+------------+--------+-------------+-------------+----------+--------------------+----------+\nonly showing top 5 rows\n\n+----------+---------+-----+---------+----------+----------+------+--------------------+--------------------+--------------------+------------+--------------------+------------+--------------------+----------+\n|CustomerID|NameStyle|Title|FirstName|MiddleName|  LastName|Suffix|         CompanyName|         SalesPerson|        EmailAddress|       Phone|        PasswordHash|PasswordSalt|             rowguid|      Date|\n+----------+---------+-----+---------+----------+----------+------+--------------------+--------------------+--------------------+------------+--------------------+------------+--------------------+----------+\n|         1|    False|  Mr.|  Orlando|        N.|       Gee|  NULL|        A Bike Store|adventure-works\\p...|orlando0@adventur...|245-555-0173|L/Rlwxzp4w7RWmEgX...|    1KjXYs4=|3f5ae95e-b87d-4ae...|2005-08-01|\n|         2|    False|  Mr.|    Keith|      NULL|    Harris|  NULL|  Progressive Sports|adventure-works\\d...|keith0@adventure-...|170-555-0127|YPdtRdvqeAhj6wyxE...|    fs1ZGhY=|e552f657-a9af-4a7...|2006-08-01|\n|         3|    False|  Ms.|    Donna|        F.|  Carreras|  NULL|Advanced Bike Com...|adventure-works\\j...|donna0@adventure-...|279-555-0130|LNoK27abGQo48gGue...|    YTNH5Rw=|130774b1-db21-4ef...|2005-09-01|\n|         4|    False|  Ms.|    Janet|        M.|     Gates|  NULL|Modular Cycle Sys...|adventure-works\\j...|janet1@adventure-...|710-555-0173|ElzTpSNbUW1Ut+L5c...|    nm7D5e4=|ff862851-1daa-404...|2006-07-01|\n|         5|    False|  Mr.|     Lucy|      NULL|Harrington|  NULL|Metropolitan Spor...|adventure-works\\shu0|lucy0@adventure-w...|828-555-0186|KJqV15wsX3PG8TS5G...|    cNFKU4w=|83905bdc-6f5e-4f7...|2006-09-01|\n+----------+---------+-----+---------+----------+----------+------+--------------------+--------------------+--------------------+------------+--------------------+------------+--------------------+----------+\nonly showing top 5 rows\n\n"
     ]
    }
   ],
   "source": [
    "df_customer_address = spark.read.format(\"delta\").load(\"abfss://proccesed@datastoragenew12.dfs.core.windows.net/Address\")\n",
    "df_customer_phone = spark.read.format(\"delta\").load(\"abfss://proccesed@datastoragenew12.dfs.core.windows.net/Customer\")\n",
    "df_customer_address.show(5)\n",
    "df_customer_phone.show(5)\n"
   ]
  },
  {
   "cell_type": "code",
   "execution_count": 0,
   "metadata": {
    "application/vnd.databricks.v1+cell": {
     "cellMetadata": {},
     "inputWidgets": {},
     "nuid": "8be4d025-4237-4ef0-bfe9-466d2f9abcb3",
     "showTitle": false,
     "tableResultSettingsMap": {},
     "title": ""
    }
   },
   "outputs": [],
   "source": [
    "#check the customers in the address table"
   ]
  },
  {
   "cell_type": "code",
   "execution_count": 0,
   "metadata": {
    "application/vnd.databricks.v1+cell": {
     "cellMetadata": {
      "byteLimit": 2048000,
      "rowLimit": 10000
     },
     "inputWidgets": {},
     "nuid": "d33bb17e-4dc6-4a25-b997-a9387683d9d0",
     "showTitle": false,
     "tableResultSettingsMap": {},
     "title": ""
    }
   },
   "outputs": [],
   "source": [
    "df_customer_address = df_customer_address.withColumn(\"CustomerID\", df_customer_address[\"AddressID\"])\n",
    "# Perform the join\n",
    "df_customer_details = df_customer_address.join(df_customer_phone, \"CustomerID\")\n",
    "df_customer_details = df_customer_details.select(\"CustomerID\", \"AddressLine1\", \"Phone\",\"FirstName\", \"LastName\")\n",
    "\n",
    "display(df_customer_details)"
   ]
  },
  {
   "cell_type": "code",
   "execution_count": 0,
   "metadata": {
    "application/vnd.databricks.v1+cell": {
     "cellMetadata": {
      "byteLimit": 2048000,
      "rowLimit": 10000
     },
     "inputWidgets": {},
     "nuid": "8466e0e3-88cf-4cdd-9de2-418575784050",
     "showTitle": false,
     "tableResultSettingsMap": {},
     "title": ""
    }
   },
   "outputs": [],
   "source": [
    "df_customer_details.write.format(\"delta\").mode(\"overwrite\").save(\"abfss://gold@datastoragenew12.dfs.core.windows.net/customer_details\")"
   ]
  }
 ],
 "metadata": {
  "application/vnd.databricks.v1+notebook": {
   "computePreferences": null,
   "dashboards": [],
   "environmentMetadata": {
    "base_environment": "",
    "client": "1"
   },
   "language": "python",
   "notebookMetadata": {
    "pythonIndentUnit": 4
   },
   "notebookName": "ETL",
   "widgets": {}
  },
  "language_info": {
   "name": "python"
  }
 },
 "nbformat": 4,
 "nbformat_minor": 0
}